{
  "nbformat": 4,
  "nbformat_minor": 0,
  "metadata": {
    "colab": {
      "name": "While.ipynb",
      "provenance": [],
      "authorship_tag": "ABX9TyPne6+ay6xmdmr/7mu+fDC5",
      "include_colab_link": true
    },
    "kernelspec": {
      "name": "python3",
      "display_name": "Python 3"
    },
    "language_info": {
      "name": "python"
    }
  },
  "cells": [
    {
      "cell_type": "markdown",
      "metadata": {
        "id": "view-in-github",
        "colab_type": "text"
      },
      "source": [
        "<a href=\"https://colab.research.google.com/github/CidaliaRodrigues/Data-Science-For-Beginners/blob/main/1-CrashCourseinPython/While.ipynb\" target=\"_parent\"><img src=\"https://colab.research.google.com/assets/colab-badge.svg\" alt=\"Open In Colab\"/></a>"
      ]
    },
    {
      "cell_type": "markdown",
      "source": [
        "# Exemplos do ciclo WHILE"
      ],
      "metadata": {
        "id": "gnxg0hJ6P3Bk"
      }
    },
    {
      "cell_type": "code",
      "execution_count": 5,
      "metadata": {
        "colab": {
          "base_uri": "https://localhost:8080/"
        },
        "id": "3jlIWD70Pu0y",
        "outputId": "e57dc3e2-d1f3-445d-8a1f-2bc7f55d0cdb"
      },
      "outputs": [
        {
          "output_type": "stream",
          "name": "stdout",
          "text": [
            "Not there yet x=0\n",
            "Not there yet x=1\n",
            "Not there yet x=2\n",
            "Not there yet x=3\n",
            "Not there yet x=4\n",
            "x=5\n"
          ]
        }
      ],
      "source": [
        "x=0\n",
        "while x<5:\n",
        "  print(\"Not there yet x=\"+str(x))\n",
        "  x=x+1\n",
        "print (\"x=\"+str(x)) "
      ]
    },
    {
      "cell_type": "code",
      "source": [
        "def attempts(n):\n",
        "    x = 1\n",
        "    while x <= n:\n",
        "        print(\"Attempt \" + str(x))\n",
        "        x += 1\n",
        "    print(\"Done\")\n",
        "    \n",
        "attempts(5)"
      ],
      "metadata": {
        "colab": {
          "base_uri": "https://localhost:8080/"
        },
        "id": "v_tjIQRMZvkN",
        "outputId": "f5fa5d32-70ad-4e46-8565-d9c2779a78d9"
      },
      "execution_count": 6,
      "outputs": [
        {
          "output_type": "stream",
          "name": "stdout",
          "text": [
            "Attempt 1\n",
            "Attempt 2\n",
            "Attempt 3\n",
            "Attempt 4\n",
            "Attempt 5\n",
            "Done\n"
          ]
        }
      ]
    }
  ]
}